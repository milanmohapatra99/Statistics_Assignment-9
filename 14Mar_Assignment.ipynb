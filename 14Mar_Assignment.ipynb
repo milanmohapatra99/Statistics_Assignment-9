{
 "cells": [
  {
   "cell_type": "markdown",
   "id": "586f8f81",
   "metadata": {},
   "source": [
    "# Q1. Write a Python function that takes in two arrays of data and calculates the F-value for a variance ratio test. The function should return the F-value and the corresponding p-value for the test."
   ]
  },
  {
   "cell_type": "code",
   "execution_count": 4,
   "id": "96b8a0df",
   "metadata": {},
   "outputs": [
    {
     "name": "stdout",
     "output_type": "stream",
     "text": [
      "The f_value and the p_value are 0.83211957655338 and 0.7387532986495047\n"
     ]
    }
   ],
   "source": [
    "import numpy as np\n",
    "from scipy.stats import f\n",
    "\n",
    "def variance_ratio_test(x, y):\n",
    "   \n",
    "    nx = len(x)\n",
    "    ny = len(y)\n",
    "    varx = np.var(x, ddof=1)\n",
    "    vary = np.var(y, ddof=1)\n",
    "    F = varx / vary\n",
    "    p_value = f.sf(F, nx-1, ny-1)\n",
    "    return F, p_value\n",
    "\n",
    "data1 = np.random.randint(100, size=(50))\n",
    "data2 = np.random.randint(100, size=(50))\n",
    "\n",
    "f_val, p_val= variance_ratio_test(data1, data2)\n",
    "print(\"The f_value and the p_value are\",f_val,\"and\",p_val)"
   ]
  },
  {
   "cell_type": "markdown",
   "id": "53026313",
   "metadata": {},
   "source": [
    "# Q2. Given a significance level of 0.05 and the degrees of freedom for the numerator and denominator of an F-distribution, write a Python function that returns the critical F-value for a two-tailed test."
   ]
  },
  {
   "cell_type": "code",
   "execution_count": 5,
   "id": "f7f6248c",
   "metadata": {},
   "outputs": [
    {
     "name": "stdout",
     "output_type": "stream",
     "text": [
      "The critical F-value for a two-tailed test is 0.13535672229749918\n"
     ]
    }
   ],
   "source": [
    "from scipy.stats import f\n",
    "\n",
    "\n",
    "def critical_f_value(alpha, dfn, dfd):\n",
    " \n",
    "    crit_f = f.ppf(alpha/2, dfn, dfd)\n",
    "    return crit_f\n",
    "\n",
    "crit_f_value = critical_f_value(0.05, 5, 4)\n",
    "print(\"The critical F-value for a two-tailed test is\", crit_f_value)"
   ]
  },
  {
   "cell_type": "markdown",
   "id": "d6d59656",
   "metadata": {},
   "source": [
    "# Q3. Write a Python program that generates random samples from two normal distributions with known variances and uses an F-test to determine if the variances are equal. The program should output the F-value, degrees of freedom, and p-value for the test."
   ]
  },
  {
   "cell_type": "code",
   "execution_count": 6,
   "id": "0f1879d6",
   "metadata": {},
   "outputs": [
    {
     "name": "stdout",
     "output_type": "stream",
     "text": [
      "F-value: 0.4164\n",
      "Degrees of freedom: (29, 24)\n",
      "p-value: 0.9872\n"
     ]
    }
   ],
   "source": [
    "import numpy as np\n",
    "from scipy.stats import f\n",
    "\n",
    "# Set the random seed for reproducibility\n",
    "np.random.seed(123)\n",
    "\n",
    "# Generate random samples from two normal distributions with known variances\n",
    "n1 = 30\n",
    "n2 = 25\n",
    "mean1 = 5\n",
    "mean2 = 5\n",
    "var1 = 4\n",
    "var2 = 9\n",
    "x = np.random.normal(mean1, np.sqrt(var1), n1)\n",
    "y = np.random.normal(mean2, np.sqrt(var2), n2)\n",
    "\n",
    "# Calculate the F-value and p-value for the variance ratio test\n",
    "dfn = n1 - 1\n",
    "dfd = n2 - 1\n",
    "F = np.var(x, ddof=1) / np.var(y, ddof=1)\n",
    "p_value = f.sf(F, dfn, dfd)\n",
    "\n",
    "# Print the results\n",
    "print(\"F-value: {:.4f}\".format(F))\n",
    "print(\"Degrees of freedom: ({}, {})\".format(dfn, dfd))\n",
    "print(\"p-value: {:.4f}\".format(p_value))"
   ]
  },
  {
   "cell_type": "markdown",
   "id": "910b80e0",
   "metadata": {},
   "source": [
    "# Q5. A manufacturer claims that the variance of the diameter of a certain product is 0.005. A sample of 25 products is taken, and the sample variance is found to be 0.006. Conduct an F-test at the 1% significance level to determine if the claim is justified."
   ]
  },
  {
   "cell_type": "code",
   "execution_count": 7,
   "id": "50bd77a6",
   "metadata": {},
   "outputs": [
    {
     "name": "stdout",
     "output_type": "stream",
     "text": [
      "The claim is justified (p-value = 0.3294)\n"
     ]
    }
   ],
   "source": [
    "import numpy as np\n",
    "from scipy.stats import f\n",
    "\n",
    "# Set the significance level\n",
    "alpha = 0.01\n",
    "\n",
    "# Set the claimed variance\n",
    "variance_claimed = 0.005\n",
    "\n",
    "# Set the sample size\n",
    "n = 25\n",
    "\n",
    "# Set the sample variance\n",
    "variance_sample = 0.006\n",
    "\n",
    "# Calculate the F-value and p-value for the variance ratio test\n",
    "dfn = n - 1\n",
    "dfd = n - 1\n",
    "F = variance_sample / variance_claimed\n",
    "p_value = f.sf(F, dfn, dfd)\n",
    "\n",
    "# Determine if the claim is justified\n",
    "if p_value < alpha:\n",
    "    print(\"The claim is not justified (p-value = {:.4f})\".format(p_value))\n",
    "else:\n",
    "    print(\"The claim is justified (p-value = {:.4f})\".format(p_value))"
   ]
  },
  {
   "cell_type": "markdown",
   "id": "8490850d",
   "metadata": {},
   "source": [
    "# Q6. Write a Python function that takes in the degrees of freedom for the numerator and denominator of an F-distribution and calculates the mean and variance of the distribution. The function should return the mean and variance as a tuple."
   ]
  },
  {
   "cell_type": "code",
   "execution_count": 8,
   "id": "22123634",
   "metadata": {},
   "outputs": [
    {
     "name": "stdout",
     "output_type": "stream",
     "text": [
      "The mean and the variance of the F-distribution are  1.2857142857142858 and 1.3224489795918368\n"
     ]
    }
   ],
   "source": [
    "def f_distribution_mean_var(dfn, dfd):\n",
    "  \n",
    "    mean = dfd / (dfd - 2)\n",
    "    variance = (2 * dfd ** 2 * (dfn + dfd - 2)) / \\(dfn * (dfd - 2) ** 2 * (dfd - 4))\n",
    "\n",
    "    return mean, variance\n",
    "\n",
    "\n",
    "mean, variance = f_distribution_mean_var(7, 9)\n",
    "\n",
    "print(\"The mean and the variance of the F-distribution are \",mean, \"and\", variance)"
   ]
  },
  {
   "cell_type": "markdown",
   "id": "8967e7c8",
   "metadata": {},
   "source": [
    "# Q7. A random sample of 10 measurements is taken from a normal population with unknown variance. The sample variance is found to be 25. Another random sample of 15 measurements is taken from another normal population with unknown variance, and the sample variance is found to be 20. Conduct an F-test at the 10% significance level to determine if the variances are significantly different."
   ]
  },
  {
   "cell_type": "code",
   "execution_count": 9,
   "id": "659621d4",
   "metadata": {},
   "outputs": [
    {
     "name": "stdout",
     "output_type": "stream",
     "text": [
      "The variances are not significantly different (p-value = 0.3416)\n"
     ]
    }
   ],
   "source": [
    "import numpy as np\n",
    "from scipy.stats import f\n",
    "\n",
    "# significance level\n",
    "alpha = 0.1\n",
    "\n",
    "# sample sizes\n",
    "n1 = 10\n",
    "n2 = 15\n",
    "\n",
    "#sample variances\n",
    "s1 = 25\n",
    "s2 = 20\n",
    "\n",
    "# Calculate the F-value and p-value for the variance ratio test\n",
    "dfn = n1 - 1\n",
    "dfd = n2 - 1\n",
    "F = s1 / s2\n",
    "p_value = f.sf(F, dfn, dfd)\n",
    "\n",
    "# Determine if the variances are significantly different\n",
    "if p_value < alpha:\n",
    "    print(\"The variances are significantly different (p-value = {:.4f})\".format(p_value))\n",
    "else:\n",
    "    print(\"The variances are not significantly different (p-value = {:.4f})\".format(p_value))"
   ]
  },
  {
   "cell_type": "markdown",
   "id": "67a05698",
   "metadata": {},
   "source": [
    "# Q8. The following data represent the waiting times in minutes at two different restaurants on a Saturday night: Restaurant A: 24, 25, 28, 23, 22, 20, 27; Restaurant B: 31, 33, 35, 30, 32, 36. Conduct an F-test at the 5% significance level to determine if the variances are significantly different."
   ]
  },
  {
   "cell_type": "code",
   "execution_count": 11,
   "id": "8046d4fa",
   "metadata": {},
   "outputs": [
    {
     "name": "stdout",
     "output_type": "stream",
     "text": [
      "The variances are not significantly different (p-value = 0.3487)\n"
     ]
    }
   ],
   "source": [
    "import numpy as np\n",
    "from scipy.stats import f\n",
    "\n",
    "# Set the significance level\n",
    "alpha = 0.05\n",
    "\n",
    "# Dataset\n",
    "a = np.array([24, 25, 28, 23, 22, 20, 27])\n",
    "b = np.array([31, 33, 35, 30, 32, 36])\n",
    "\n",
    "# Calculate the sample variances\n",
    "var_a = np.var(a, ddof=1)\n",
    "var_b = np.var(b, ddof=1)\n",
    "\n",
    "# Calculate the F-value and p-value for the variance ratio test\n",
    "F = var_a / var_b\n",
    "dfn = len(a) - 1\n",
    "dfd = len(b) - 1\n",
    "p_value = f.sf(F, dfn, dfd)\n",
    "\n",
    "# Determine if the variances are significantly different\n",
    "if p_value < alpha:\n",
    "    print(\"The variances are significantly different (p-value = {:.4f})\".format(p_value))\n",
    "else:\n",
    "    print(\"The variances are not significantly different (p-value = {:.4f})\".format(p_value))"
   ]
  },
  {
   "cell_type": "markdown",
   "id": "d0648dff",
   "metadata": {},
   "source": [
    "# Q9. The following data represent the test scores of two groups of students: Group A: 80, 85, 90, 92, 87, 83; Group B: 75, 78, 82, 79, 81, 84. Conduct an F-test at the 1% significance level to determine if the variances are significantly different."
   ]
  },
  {
   "cell_type": "code",
   "execution_count": 12,
   "id": "8d5f7023",
   "metadata": {},
   "outputs": [
    {
     "name": "stdout",
     "output_type": "stream",
     "text": [
      "The variances are not significantly different (p-value = 0.2416)\n"
     ]
    }
   ],
   "source": [
    "import numpy as np\n",
    "from scipy.stats import f\n",
    "\n",
    "# Set the significance level\n",
    "alpha = 0.01\n",
    "\n",
    "# Set the data\n",
    "a = np.array([80, 85, 90, 92, 87, 83])\n",
    "b = np.array([75, 78, 82, 79, 81, 84])\n",
    "\n",
    "# Calculate the sample variances\n",
    "var_a = np.var(a, ddof=1)\n",
    "var_b = np.var(b, ddof=1)\n",
    "\n",
    "# Calculate the F-value and p-value for the variance ratio test\n",
    "F = var_a / var_b\n",
    "dfn = len(a) - 1\n",
    "dfd = len(b) - 1\n",
    "p_value = f.sf(F, dfn, dfd)\n",
    "\n",
    "# Determine if the variances are significantly different\n",
    "if p_value < alpha:\n",
    "    print(\"The variances are significantly different (p-value = {:.4f})\".format(p_value))\n",
    "else:\n",
    "    print(\"The variances are not significantly different (p-value = {:.4f})\".format(p_value))"
   ]
  },
  {
   "cell_type": "code",
   "execution_count": null,
   "id": "4ff6aee9",
   "metadata": {},
   "outputs": [],
   "source": []
  }
 ],
 "metadata": {
  "kernelspec": {
   "display_name": "Python 3 (ipykernel)",
   "language": "python",
   "name": "python3"
  },
  "language_info": {
   "codemirror_mode": {
    "name": "ipython",
    "version": 3
   },
   "file_extension": ".py",
   "mimetype": "text/x-python",
   "name": "python",
   "nbconvert_exporter": "python",
   "pygments_lexer": "ipython3",
   "version": "3.10.9"
  }
 },
 "nbformat": 4,
 "nbformat_minor": 5
}
